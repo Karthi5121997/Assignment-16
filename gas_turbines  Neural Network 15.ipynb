{
 "cells": [
  {
   "cell_type": "code",
   "execution_count": 1,
   "metadata": {},
   "outputs": [],
   "source": [
    "import pandas as pd\n",
    "import numpy as np\n"
   ]
  },
  {
   "cell_type": "code",
   "execution_count": 2,
   "metadata": {},
   "outputs": [
    {
     "data": {
      "text/html": [
       "<div>\n",
       "<style scoped>\n",
       "    .dataframe tbody tr th:only-of-type {\n",
       "        vertical-align: middle;\n",
       "    }\n",
       "\n",
       "    .dataframe tbody tr th {\n",
       "        vertical-align: top;\n",
       "    }\n",
       "\n",
       "    .dataframe thead th {\n",
       "        text-align: right;\n",
       "    }\n",
       "</style>\n",
       "<table border=\"1\" class=\"dataframe\">\n",
       "  <thead>\n",
       "    <tr style=\"text-align: right;\">\n",
       "      <th></th>\n",
       "      <th>AT</th>\n",
       "      <th>AP</th>\n",
       "      <th>AH</th>\n",
       "      <th>AFDP</th>\n",
       "      <th>GTEP</th>\n",
       "      <th>TIT</th>\n",
       "      <th>TAT</th>\n",
       "      <th>TEY</th>\n",
       "      <th>CDP</th>\n",
       "      <th>CO</th>\n",
       "      <th>NOX</th>\n",
       "    </tr>\n",
       "  </thead>\n",
       "  <tbody>\n",
       "    <tr>\n",
       "      <th>0</th>\n",
       "      <td>6.8594</td>\n",
       "      <td>1007.9</td>\n",
       "      <td>96.799</td>\n",
       "      <td>3.5000</td>\n",
       "      <td>19.663</td>\n",
       "      <td>1059.2</td>\n",
       "      <td>550.00</td>\n",
       "      <td>114.70</td>\n",
       "      <td>10.605</td>\n",
       "      <td>3.1547</td>\n",
       "      <td>82.722</td>\n",
       "    </tr>\n",
       "    <tr>\n",
       "      <th>1</th>\n",
       "      <td>6.7850</td>\n",
       "      <td>1008.4</td>\n",
       "      <td>97.118</td>\n",
       "      <td>3.4998</td>\n",
       "      <td>19.728</td>\n",
       "      <td>1059.3</td>\n",
       "      <td>550.00</td>\n",
       "      <td>114.72</td>\n",
       "      <td>10.598</td>\n",
       "      <td>3.2363</td>\n",
       "      <td>82.776</td>\n",
       "    </tr>\n",
       "    <tr>\n",
       "      <th>2</th>\n",
       "      <td>6.8977</td>\n",
       "      <td>1008.8</td>\n",
       "      <td>95.939</td>\n",
       "      <td>3.4824</td>\n",
       "      <td>19.779</td>\n",
       "      <td>1059.4</td>\n",
       "      <td>549.87</td>\n",
       "      <td>114.71</td>\n",
       "      <td>10.601</td>\n",
       "      <td>3.2012</td>\n",
       "      <td>82.468</td>\n",
       "    </tr>\n",
       "    <tr>\n",
       "      <th>3</th>\n",
       "      <td>7.0569</td>\n",
       "      <td>1009.2</td>\n",
       "      <td>95.249</td>\n",
       "      <td>3.4805</td>\n",
       "      <td>19.792</td>\n",
       "      <td>1059.6</td>\n",
       "      <td>549.99</td>\n",
       "      <td>114.72</td>\n",
       "      <td>10.606</td>\n",
       "      <td>3.1923</td>\n",
       "      <td>82.670</td>\n",
       "    </tr>\n",
       "    <tr>\n",
       "      <th>4</th>\n",
       "      <td>7.3978</td>\n",
       "      <td>1009.7</td>\n",
       "      <td>95.150</td>\n",
       "      <td>3.4976</td>\n",
       "      <td>19.765</td>\n",
       "      <td>1059.7</td>\n",
       "      <td>549.98</td>\n",
       "      <td>114.72</td>\n",
       "      <td>10.612</td>\n",
       "      <td>3.2484</td>\n",
       "      <td>82.311</td>\n",
       "    </tr>\n",
       "  </tbody>\n",
       "</table>\n",
       "</div>"
      ],
      "text/plain": [
       "       AT      AP      AH    AFDP    GTEP     TIT     TAT     TEY     CDP  \\\n",
       "0  6.8594  1007.9  96.799  3.5000  19.663  1059.2  550.00  114.70  10.605   \n",
       "1  6.7850  1008.4  97.118  3.4998  19.728  1059.3  550.00  114.72  10.598   \n",
       "2  6.8977  1008.8  95.939  3.4824  19.779  1059.4  549.87  114.71  10.601   \n",
       "3  7.0569  1009.2  95.249  3.4805  19.792  1059.6  549.99  114.72  10.606   \n",
       "4  7.3978  1009.7  95.150  3.4976  19.765  1059.7  549.98  114.72  10.612   \n",
       "\n",
       "       CO     NOX  \n",
       "0  3.1547  82.722  \n",
       "1  3.2363  82.776  \n",
       "2  3.2012  82.468  \n",
       "3  3.1923  82.670  \n",
       "4  3.2484  82.311  "
      ]
     },
     "execution_count": 2,
     "metadata": {},
     "output_type": "execute_result"
    }
   ],
   "source": [
    "df= pd.read_csv(\"gas_turbines.csv\")\n",
    "df.head()"
   ]
  },
  {
   "cell_type": "code",
   "execution_count": 3,
   "metadata": {},
   "outputs": [
    {
     "data": {
      "text/plain": [
       "AT      0\n",
       "AP      0\n",
       "AH      0\n",
       "AFDP    0\n",
       "GTEP    0\n",
       "TIT     0\n",
       "TAT     0\n",
       "TEY     0\n",
       "CDP     0\n",
       "CO      0\n",
       "NOX     0\n",
       "dtype: int64"
      ]
     },
     "execution_count": 3,
     "metadata": {},
     "output_type": "execute_result"
    }
   ],
   "source": [
    "df.isnull().sum()"
   ]
  },
  {
   "cell_type": "code",
   "execution_count": 4,
   "metadata": {},
   "outputs": [
    {
     "data": {
      "text/plain": [
       "Index(['AT', 'AP', 'AH', 'AFDP', 'GTEP', 'TIT', 'TAT', 'TEY', 'CDP', 'CO',\n",
       "       'NOX'],\n",
       "      dtype='object')"
      ]
     },
     "execution_count": 4,
     "metadata": {},
     "output_type": "execute_result"
    }
   ],
   "source": [
    "df.columns"
   ]
  },
  {
   "cell_type": "code",
   "execution_count": 5,
   "metadata": {},
   "outputs": [],
   "source": [
    "from keras.layers import Dense, Activation\n",
    "from keras.models import Sequential\n",
    "from sklearn.model_selection import train_test_split\n",
    "import matplotlib.pyplot as plt"
   ]
  },
  {
   "cell_type": "code",
   "execution_count": 6,
   "metadata": {},
   "outputs": [],
   "source": [
    "X =df.iloc[:,0:3]\n",
    "y= df.iloc[:,7]"
   ]
  },
  {
   "cell_type": "code",
   "execution_count": 7,
   "metadata": {},
   "outputs": [
    {
     "data": {
      "text/plain": [
       "AT    float64\n",
       "AP    float64\n",
       "AH    float64\n",
       "dtype: object"
      ]
     },
     "execution_count": 7,
     "metadata": {},
     "output_type": "execute_result"
    }
   ],
   "source": [
    "X.dtypes"
   ]
  },
  {
   "cell_type": "code",
   "execution_count": 8,
   "metadata": {},
   "outputs": [
    {
     "data": {
      "text/plain": [
       "(15039,)"
      ]
     },
     "execution_count": 8,
     "metadata": {},
     "output_type": "execute_result"
    }
   ],
   "source": [
    "y.shape"
   ]
  },
  {
   "cell_type": "code",
   "execution_count": 9,
   "metadata": {},
   "outputs": [],
   "source": [
    "X_train, X_test, y_train, y_test = train_test_split(X,y,test_size=0.3,random_state = 1)"
   ]
  },
  {
   "cell_type": "code",
   "execution_count": 10,
   "metadata": {},
   "outputs": [
    {
     "data": {
      "text/html": [
       "<div>\n",
       "<style scoped>\n",
       "    .dataframe tbody tr th:only-of-type {\n",
       "        vertical-align: middle;\n",
       "    }\n",
       "\n",
       "    .dataframe tbody tr th {\n",
       "        vertical-align: top;\n",
       "    }\n",
       "\n",
       "    .dataframe thead th {\n",
       "        text-align: right;\n",
       "    }\n",
       "</style>\n",
       "<table border=\"1\" class=\"dataframe\">\n",
       "  <thead>\n",
       "    <tr style=\"text-align: right;\">\n",
       "      <th></th>\n",
       "      <th>AT</th>\n",
       "      <th>AP</th>\n",
       "      <th>AH</th>\n",
       "    </tr>\n",
       "  </thead>\n",
       "  <tbody>\n",
       "    <tr>\n",
       "      <th>663</th>\n",
       "      <td>6.6824</td>\n",
       "      <td>1013.5</td>\n",
       "      <td>94.481</td>\n",
       "    </tr>\n",
       "    <tr>\n",
       "      <th>11652</th>\n",
       "      <td>30.6960</td>\n",
       "      <td>1014.4</td>\n",
       "      <td>55.209</td>\n",
       "    </tr>\n",
       "    <tr>\n",
       "      <th>2780</th>\n",
       "      <td>18.0910</td>\n",
       "      <td>1011.3</td>\n",
       "      <td>87.271</td>\n",
       "    </tr>\n",
       "    <tr>\n",
       "      <th>11044</th>\n",
       "      <td>20.5180</td>\n",
       "      <td>1007.5</td>\n",
       "      <td>89.969</td>\n",
       "    </tr>\n",
       "    <tr>\n",
       "      <th>11621</th>\n",
       "      <td>19.7700</td>\n",
       "      <td>1009.3</td>\n",
       "      <td>92.409</td>\n",
       "    </tr>\n",
       "    <tr>\n",
       "      <th>...</th>\n",
       "      <td>...</td>\n",
       "      <td>...</td>\n",
       "      <td>...</td>\n",
       "    </tr>\n",
       "    <tr>\n",
       "      <th>6499</th>\n",
       "      <td>14.5890</td>\n",
       "      <td>1012.9</td>\n",
       "      <td>80.707</td>\n",
       "    </tr>\n",
       "    <tr>\n",
       "      <th>2900</th>\n",
       "      <td>17.3870</td>\n",
       "      <td>1014.1</td>\n",
       "      <td>85.509</td>\n",
       "    </tr>\n",
       "    <tr>\n",
       "      <th>12419</th>\n",
       "      <td>22.8350</td>\n",
       "      <td>1007.0</td>\n",
       "      <td>78.223</td>\n",
       "    </tr>\n",
       "    <tr>\n",
       "      <th>9627</th>\n",
       "      <td>12.6310</td>\n",
       "      <td>1017.0</td>\n",
       "      <td>89.479</td>\n",
       "    </tr>\n",
       "    <tr>\n",
       "      <th>2120</th>\n",
       "      <td>18.1700</td>\n",
       "      <td>1013.9</td>\n",
       "      <td>73.929</td>\n",
       "    </tr>\n",
       "  </tbody>\n",
       "</table>\n",
       "<p>4512 rows × 3 columns</p>\n",
       "</div>"
      ],
      "text/plain": [
       "            AT      AP      AH\n",
       "663     6.6824  1013.5  94.481\n",
       "11652  30.6960  1014.4  55.209\n",
       "2780   18.0910  1011.3  87.271\n",
       "11044  20.5180  1007.5  89.969\n",
       "11621  19.7700  1009.3  92.409\n",
       "...        ...     ...     ...\n",
       "6499   14.5890  1012.9  80.707\n",
       "2900   17.3870  1014.1  85.509\n",
       "12419  22.8350  1007.0  78.223\n",
       "9627   12.6310  1017.0  89.479\n",
       "2120   18.1700  1013.9  73.929\n",
       "\n",
       "[4512 rows x 3 columns]"
      ]
     },
     "execution_count": 10,
     "metadata": {},
     "output_type": "execute_result"
    }
   ],
   "source": [
    "X_test"
   ]
  },
  {
   "cell_type": "code",
   "execution_count": 11,
   "metadata": {},
   "outputs": [],
   "source": [
    "from sklearn.preprocessing import StandardScaler\n",
    "sc=StandardScaler()"
   ]
  },
  {
   "cell_type": "code",
   "execution_count": 12,
   "metadata": {},
   "outputs": [],
   "source": [
    "X_train =sc.fit_transform(X_train)\n",
    "X_test = sc.fit_transform(X_test)"
   ]
  },
  {
   "cell_type": "code",
   "execution_count": 13,
   "metadata": {},
   "outputs": [],
   "source": [
    "model = Sequential()\n",
    "#adding the input layer and the first hidden layer\n",
    "model.add(Dense(32,activation='relu',input_dim = 3))\n",
    "#adding the second hidden layer\n",
    "model.add(Dense(32,activation='relu'))\n",
    "#Adding the third hidden layer\n",
    "model.add(Dense(32,activation='relu'))"
   ]
  },
  {
   "cell_type": "code",
   "execution_count": 14,
   "metadata": {},
   "outputs": [],
   "source": [
    "#output layer\n",
    "model.add(Dense(1))"
   ]
  },
  {
   "cell_type": "code",
   "execution_count": 15,
   "metadata": {},
   "outputs": [
    {
     "name": "stdout",
     "output_type": "stream",
     "text": [
      "Epoch 1/100\n",
      "1053/1053 [==============================] - 1s 560us/step - loss: 2359.7100\n",
      "Epoch 2/100\n",
      "1053/1053 [==============================] - 1s 525us/step - loss: 240.2760\n",
      "Epoch 3/100\n",
      "1053/1053 [==============================] - 1s 639us/step - loss: 222.9061\n",
      "Epoch 4/100\n",
      "1053/1053 [==============================] - 1s 602us/step - loss: 218.7769\n",
      "Epoch 5/100\n",
      "1053/1053 [==============================] - 1s 567us/step - loss: 217.0423\n",
      "Epoch 6/100\n",
      "1053/1053 [==============================] - 1s 576us/step - loss: 215.3900\n",
      "Epoch 7/100\n",
      "1053/1053 [==============================] - 1s 547us/step - loss: 213.5732\n",
      "Epoch 8/100\n",
      "1053/1053 [==============================] - 1s 561us/step - loss: 212.6449\n",
      "Epoch 9/100\n",
      "1053/1053 [==============================] - 1s 567us/step - loss: 213.5505\n",
      "Epoch 10/100\n",
      "1053/1053 [==============================] - 1s 551us/step - loss: 212.5441\n",
      "Epoch 11/100\n",
      "1053/1053 [==============================] - 1s 541us/step - loss: 213.1226\n",
      "Epoch 12/100\n",
      "1053/1053 [==============================] - 1s 611us/step - loss: 211.8962\n",
      "Epoch 13/100\n",
      "1053/1053 [==============================] - 1s 525us/step - loss: 212.5378\n",
      "Epoch 14/100\n",
      "1053/1053 [==============================] - 1s 523us/step - loss: 211.5482\n",
      "Epoch 15/100\n",
      "1053/1053 [==============================] - 1s 526us/step - loss: 212.4055\n",
      "Epoch 16/100\n",
      "1053/1053 [==============================] - 1s 520us/step - loss: 212.2473\n",
      "Epoch 17/100\n",
      "1053/1053 [==============================] - 1s 521us/step - loss: 212.1820\n",
      "Epoch 18/100\n",
      "1053/1053 [==============================] - 1s 529us/step - loss: 211.2007\n",
      "Epoch 19/100\n",
      "1053/1053 [==============================] - 1s 531us/step - loss: 210.6791\n",
      "Epoch 20/100\n",
      "1053/1053 [==============================] - 1s 530us/step - loss: 210.7479\n",
      "Epoch 21/100\n",
      "1053/1053 [==============================] - 1s 538us/step - loss: 210.4011\n",
      "Epoch 22/100\n",
      "1053/1053 [==============================] - 1s 581us/step - loss: 211.2009\n",
      "Epoch 23/100\n",
      "1053/1053 [==============================] - 1s 566us/step - loss: 210.6293\n",
      "Epoch 24/100\n",
      "1053/1053 [==============================] - 1s 520us/step - loss: 209.8543\n",
      "Epoch 25/100\n",
      "1053/1053 [==============================] - 1s 523us/step - loss: 209.3543\n",
      "Epoch 26/100\n",
      "1053/1053 [==============================] - 1s 544us/step - loss: 211.4697\n",
      "Epoch 27/100\n",
      "1053/1053 [==============================] - 1s 552us/step - loss: 210.8271\n",
      "Epoch 28/100\n",
      "1053/1053 [==============================] - 1s 525us/step - loss: 209.0005\n",
      "Epoch 29/100\n",
      "1053/1053 [==============================] - 1s 531us/step - loss: 209.7538\n",
      "Epoch 30/100\n",
      "1053/1053 [==============================] - 1s 568us/step - loss: 210.0659\n",
      "Epoch 31/100\n",
      "1053/1053 [==============================] - 1s 596us/step - loss: 210.7253\n",
      "Epoch 32/100\n",
      "1053/1053 [==============================] - 1s 531us/step - loss: 209.9675\n",
      "Epoch 33/100\n",
      "1053/1053 [==============================] - 1s 530us/step - loss: 210.4412\n",
      "Epoch 34/100\n",
      "1053/1053 [==============================] - 1s 528us/step - loss: 210.5368\n",
      "Epoch 35/100\n",
      "1053/1053 [==============================] - 1s 542us/step - loss: 209.2088\n",
      "Epoch 36/100\n",
      "1053/1053 [==============================] - 1s 545us/step - loss: 209.3840\n",
      "Epoch 37/100\n",
      "1053/1053 [==============================] - 1s 600us/step - loss: 210.1006\n",
      "Epoch 38/100\n",
      "1053/1053 [==============================] - 1s 556us/step - loss: 209.5152\n",
      "Epoch 39/100\n",
      "1053/1053 [==============================] - 1s 526us/step - loss: 209.0006\n",
      "Epoch 40/100\n",
      "1053/1053 [==============================] - 1s 520us/step - loss: 208.5335\n",
      "Epoch 41/100\n",
      "1053/1053 [==============================] - 1s 527us/step - loss: 208.7901\n",
      "Epoch 42/100\n",
      "1053/1053 [==============================] - 1s 539us/step - loss: 209.1909\n",
      "Epoch 43/100\n",
      "1053/1053 [==============================] - 1s 583us/step - loss: 210.7924\n",
      "Epoch 44/100\n",
      "1053/1053 [==============================] - 1s 531us/step - loss: 209.1323\n",
      "Epoch 45/100\n",
      "1053/1053 [==============================] - 1s 546us/step - loss: 209.4726\n",
      "Epoch 46/100\n",
      "1053/1053 [==============================] - 1s 524us/step - loss: 209.2930\n",
      "Epoch 47/100\n",
      "1053/1053 [==============================] - 1s 616us/step - loss: 209.4276\n",
      "Epoch 48/100\n",
      "1053/1053 [==============================] - 1s 564us/step - loss: 209.2890\n",
      "Epoch 49/100\n",
      "1053/1053 [==============================] - 1s 525us/step - loss: 208.4375\n",
      "Epoch 50/100\n",
      "1053/1053 [==============================] - 1s 525us/step - loss: 209.1912\n",
      "Epoch 51/100\n",
      "1053/1053 [==============================] - 1s 519us/step - loss: 208.9621\n",
      "Epoch 52/100\n",
      "1053/1053 [==============================] - 1s 531us/step - loss: 208.9940\n",
      "Epoch 53/100\n",
      "1053/1053 [==============================] - 1s 522us/step - loss: 210.3172\n",
      "Epoch 54/100\n",
      "1053/1053 [==============================] - 1s 521us/step - loss: 209.2086\n",
      "Epoch 55/100\n",
      "1053/1053 [==============================] - 1s 524us/step - loss: 209.6064\n",
      "Epoch 56/100\n",
      "1053/1053 [==============================] - 1s 531us/step - loss: 207.8003\n",
      "Epoch 57/100\n",
      "1053/1053 [==============================] - 1s 531us/step - loss: 208.7446\n",
      "Epoch 58/100\n",
      "1053/1053 [==============================] - 1s 567us/step - loss: 208.8327\n",
      "Epoch 59/100\n",
      "1053/1053 [==============================] - 1s 584us/step - loss: 208.6785\n",
      "Epoch 60/100\n",
      "1053/1053 [==============================] - 1s 539us/step - loss: 209.2267\n",
      "Epoch 61/100\n",
      "1053/1053 [==============================] - 1s 559us/step - loss: 209.7814\n",
      "Epoch 62/100\n",
      "1053/1053 [==============================] - 1s 537us/step - loss: 209.9101\n",
      "Epoch 63/100\n",
      "1053/1053 [==============================] - 1s 536us/step - loss: 208.4379\n",
      "Epoch 64/100\n",
      "1053/1053 [==============================] - 1s 529us/step - loss: 207.9372\n",
      "Epoch 65/100\n",
      "1053/1053 [==============================] - 1s 530us/step - loss: 209.1759\n",
      "Epoch 66/100\n",
      "1053/1053 [==============================] - 1s 529us/step - loss: 208.5875\n",
      "Epoch 67/100\n",
      "1053/1053 [==============================] - 1s 528us/step - loss: 207.7919\n",
      "Epoch 68/100\n",
      "1053/1053 [==============================] - 1s 539us/step - loss: 209.8785\n",
      "Epoch 69/100\n",
      "1053/1053 [==============================] - 1s 530us/step - loss: 209.0590\n",
      "Epoch 70/100\n",
      "1053/1053 [==============================] - 1s 526us/step - loss: 208.4184\n",
      "Epoch 71/100\n",
      "1053/1053 [==============================] - 1s 533us/step - loss: 208.7079\n",
      "Epoch 72/100\n",
      "1053/1053 [==============================] - 1s 538us/step - loss: 209.2249\n",
      "Epoch 73/100\n",
      "1053/1053 [==============================] - 1s 527us/step - loss: 207.8375\n",
      "Epoch 74/100\n",
      "1053/1053 [==============================] - 1s 531us/step - loss: 208.6385\n",
      "Epoch 75/100\n",
      "1053/1053 [==============================] - 1s 527us/step - loss: 208.2810\n",
      "Epoch 76/100\n",
      "1053/1053 [==============================] - 1s 530us/step - loss: 208.5384\n",
      "Epoch 77/100\n",
      "1053/1053 [==============================] - 1s 529us/step - loss: 207.6098\n",
      "Epoch 78/100\n",
      "1053/1053 [==============================] - 1s 544us/step - loss: 207.5577\n",
      "Epoch 79/100\n",
      "1053/1053 [==============================] - 1s 521us/step - loss: 208.0646\n",
      "Epoch 80/100\n",
      "1053/1053 [==============================] - 1s 522us/step - loss: 208.8411\n",
      "Epoch 81/100\n",
      "1053/1053 [==============================] - 1s 525us/step - loss: 208.6718\n",
      "Epoch 82/100\n",
      "1053/1053 [==============================] - 1s 522us/step - loss: 208.3014\n",
      "Epoch 83/100\n",
      "1053/1053 [==============================] - 1s 519us/step - loss: 207.5426\n",
      "Epoch 84/100\n",
      "1053/1053 [==============================] - 1s 536us/step - loss: 208.1584\n",
      "Epoch 85/100\n",
      "1053/1053 [==============================] - 1s 522us/step - loss: 208.0556\n",
      "Epoch 86/100\n",
      "1053/1053 [==============================] - 1s 516us/step - loss: 206.9276\n",
      "Epoch 87/100\n",
      "1053/1053 [==============================] - 1s 615us/step - loss: 208.9004\n",
      "Epoch 88/100\n",
      "1053/1053 [==============================] - 1s 534us/step - loss: 208.5807\n",
      "Epoch 89/100\n",
      "1053/1053 [==============================] - 1s 527us/step - loss: 207.6803\n",
      "Epoch 90/100\n",
      "1053/1053 [==============================] - 1s 522us/step - loss: 210.3401\n",
      "Epoch 91/100\n",
      "1053/1053 [==============================] - 1s 523us/step - loss: 207.5249\n",
      "Epoch 92/100\n",
      "1053/1053 [==============================] - 1s 521us/step - loss: 208.6564\n",
      "Epoch 93/100\n",
      "1053/1053 [==============================] - 1s 520us/step - loss: 207.6125\n",
      "Epoch 94/100\n",
      "1053/1053 [==============================] - 1s 524us/step - loss: 208.3548\n",
      "Epoch 95/100\n",
      "1053/1053 [==============================] - 1s 538us/step - loss: 208.1486\n",
      "Epoch 96/100\n",
      "1053/1053 [==============================] - 1s 519us/step - loss: 207.5998\n",
      "Epoch 97/100\n",
      "1053/1053 [==============================] - 1s 528us/step - loss: 207.8856\n",
      "Epoch 98/100\n",
      "1053/1053 [==============================] - 1s 542us/step - loss: 208.3154\n",
      "Epoch 99/100\n",
      "1053/1053 [==============================] - 1s 545us/step - loss: 207.7594\n",
      "Epoch 100/100\n",
      "1053/1053 [==============================] - 1s 549us/step - loss: 207.3750\n"
     ]
    },
    {
     "data": {
      "text/plain": [
       "<keras.callbacks.History at 0x18a38627580>"
      ]
     },
     "execution_count": 15,
     "metadata": {},
     "output_type": "execute_result"
    }
   ],
   "source": [
    "#Compiling the ANN\n",
    "model.compile(optimizer='adam',loss='mean_squared_error')\n",
    "model.fit(X_train,y_train, batch_size=10,epochs=100)"
   ]
  },
  {
   "cell_type": "code",
   "execution_count": 16,
   "metadata": {},
   "outputs": [
    {
     "data": {
      "text/plain": [
       "array([[139.12662],\n",
       "       [129.80687],\n",
       "       [121.76141],\n",
       "       ...,\n",
       "       [125.06898],\n",
       "       [132.24763],\n",
       "       [130.20181]], dtype=float32)"
      ]
     },
     "execution_count": 16,
     "metadata": {},
     "output_type": "execute_result"
    }
   ],
   "source": [
    "y_pred = model.predict(X_test)\n",
    "y_pred"
   ]
  },
  {
   "cell_type": "code",
   "execution_count": 17,
   "metadata": {},
   "outputs": [
    {
     "data": {
      "text/plain": [
       "<function matplotlib.pyplot.show(close=None, block=None)>"
      ]
     },
     "execution_count": 17,
     "metadata": {},
     "output_type": "execute_result"
    },
    {
     "data": {
      "image/png": "[encoded data removed]",
      "text/plain": [
       "<Figure size 432x288 with 1 Axes>"
      ]
     },
     "metadata": {
      "needs_background": "light"
     },
     "output_type": "display_data"
    }
   ],
   "source": [
    "plt.plot(y_test, color='red', label='Real data')\n",
    "plt.plot(y_pred, color='blue',label = 'Predicted data')\n",
    "plt.title('Prediction')\n",
    "plt.legend()\n",
    "plt.show"
   ]
  },
  {
   "cell_type": "code",
   "execution_count": null,
   "metadata": {},
   "outputs": [],
   "source": []
  },
  {
   "cell_type": "code",
   "execution_count": null,
   "metadata": {},
   "outputs": [],
   "source": []
  }
 ],
 "metadata": {
  "kernelspec": {
   "display_name": "Python 3",
   "language": "python",
   "name": "python3"
  },
  "language_info": {
   "codemirror_mode": {
    "name": "ipython",
    "version": 3
   },
   "file_extension": ".py",
   "mimetype": "text/x-python",
   "name": "python",
   "nbconvert_exporter": "python",
   "pygments_lexer": "ipython3",
   "version": "3.8.5"
  }
 },
 "nbformat": 4,
 "nbformat_minor": 4
}
